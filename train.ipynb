{
  "cells": [
    {
      "cell_type": "code",
      "execution_count": 1,
      "metadata": {
        "id": "7HDmokOiM-g0"
      },
      "outputs": [],
      "source": [
        "import os\n",
        "from tensorflow.keras import layers\n",
        "from tensorflow.keras import Model\n",
        "from tensorflow.keras.preprocessing.image import ImageDataGenerator\n",
        "import tensorflow as tf\n",
        "from tensorflow.keras.callbacks import ReduceLROnPlateau, ModelCheckpoint, EarlyStopping\n",
        "from tensorflow.keras.models import Sequential,load_model,save_model\n",
        "from tensorflow.keras.layers import Dense,Conv2D,Flatten,MaxPooling2D,Dropout\n",
        "from keras.layers import BatchNormalization\n",
        "from tensorflow.keras.optimizers import Adam\n",
        "import matplotlib.pyplot as plt\n",
        "import numpy as np\n",
        "from zipfile import ZipFile"
      ]
    },
    {
      "cell_type": "code",
      "source": [
        "from google.colab import drive\n",
        "drive.mount('/content/drive')"
      ],
      "metadata": {
        "colab": {
          "base_uri": "https://localhost:8080/"
        },
        "id": "jHKX1uA1NGBw",
        "outputId": "e24bc6db-cfbc-4a5d-ee35-21a2246bb01c"
      },
      "execution_count": 2,
      "outputs": [
        {
          "output_type": "stream",
          "name": "stdout",
          "text": [
            "Mounted at /content/drive\n"
          ]
        }
      ]
    },
    {
      "cell_type": "code",
      "execution_count": 3,
      "metadata": {
        "colab": {
          "base_uri": "https://localhost:8080/"
        },
        "id": "goUxQI13M-g4",
        "outputId": "37723037-c1bd-4743-c3f7-0afe45522c9c"
      },
      "outputs": [
        {
          "output_type": "stream",
          "name": "stdout",
          "text": [
            "please wait until extraction is finished......\n",
            "extraction is finised\n"
          ]
        }
      ],
      "source": [
        "t=\"/content/drive/MyDrive/Dataset.zip\"\n",
        "from zipfile import ZipFile \n",
        "with ZipFile(\"/content/drive/MyDrive/Dataset.zip\", 'r') as zip:\n",
        "  print(\"please wait until extraction is finished......\")\n",
        "  zip.extractall(\"/content/ds\")\n",
        "  print(\"extraction is finised\")\n",
        "  tra=\"/content/ds/Train/\"\n",
        "tes=\"/content/ds/Test/\"\n",
        "val=\"/content/ds/Validation\""
      ]
    },
    {
      "cell_type": "code",
      "execution_count": 4,
      "metadata": {
        "id": "rB8FBCdOM-g5"
      },
      "outputs": [],
      "source": [
        "train_datagen = ImageDataGenerator(rescale = 1./255,\n",
        "      rotation_range=25,\n",
        "      width_shift_range=0.2,\n",
        "      height_shift_range=0.2,\n",
        "      shear_range=0.2,\n",
        "      zoom_range=0.2,\n",
        "      horizontal_flip=True,\n",
        "      fill_mode='nearest')"
      ]
    },
    {
      "cell_type": "code",
      "execution_count": 5,
      "metadata": {
        "colab": {
          "base_uri": "https://localhost:8080/"
        },
        "id": "Q3yD3EKeM-g6",
        "outputId": "0161140b-3de4-4092-86fd-6e651b44b49f"
      },
      "outputs": [
        {
          "output_type": "stream",
          "name": "stdout",
          "text": [
            "Found 160000 images belonging to 2 classes.\n",
            "Found 22598 images belonging to 2 classes.\n"
          ]
        }
      ],
      "source": [
        "test_datagen = ImageDataGenerator( rescale = 1.0/255)\n",
        "\n",
        "train_generator = train_datagen.flow_from_directory(tra,\n",
        "                                                    batch_size =64 ,\n",
        "                                                    class_mode = 'binary',\n",
        "                                                    seed=1337,\n",
        "                                                    target_size = (64,64) ) # this is train data     \n",
        "\n",
        "validation_generator =  test_datagen.flow_from_directory(val,\n",
        "                                                          batch_size  =64,\n",
        "                                                          class_mode  = 'binary',\n",
        "                                                          seed=1337,\n",
        "                                                          target_size = (64,64)) # validation data"
      ]
    },
    {
      "cell_type": "code",
      "execution_count": 6,
      "metadata": {
        "colab": {
          "base_uri": "https://localhost:8080/"
        },
        "id": "u9N2TXOLM-g7",
        "outputId": "1d067e35-63b5-429c-c567-b354a9960f31"
      },
      "outputs": [
        {
          "output_type": "stream",
          "name": "stdout",
          "text": [
            "Model: \"sequential\"\n",
            "_________________________________________________________________\n",
            " Layer (type)                Output Shape              Param #   \n",
            "=================================================================\n",
            " conv2d (Conv2D)             (None, 64, 64, 512)       14336     \n",
            "                                                                 \n",
            " dropout (Dropout)           (None, 64, 64, 512)       0         \n",
            "                                                                 \n",
            " conv2d_1 (Conv2D)           (None, 64, 64, 250)       1152250   \n",
            "                                                                 \n",
            " batch_normalization (BatchN  (None, 64, 64, 250)      1000      \n",
            " ormalization)                                                   \n",
            "                                                                 \n",
            " conv2d_2 (Conv2D)           (None, 64, 64, 128)       288128    \n",
            "                                                                 \n",
            " conv2d_3 (Conv2D)           (None, 64, 64, 64)        73792     \n",
            "                                                                 \n",
            " conv2d_4 (Conv2D)           (None, 64, 64, 32)        18464     \n",
            "                                                                 \n",
            " conv2d_5 (Conv2D)           (None, 64, 64, 16)        4624      \n",
            "                                                                 \n",
            " max_pooling2d (MaxPooling2D  (None, 32, 32, 16)       0         \n",
            " )                                                               \n",
            "                                                                 \n",
            " flatten (Flatten)           (None, 16384)             0         \n",
            "                                                                 \n",
            " dense (Dense)               (None, 2000)              32770000  \n",
            "                                                                 \n",
            " dropout_1 (Dropout)         (None, 2000)              0         \n",
            "                                                                 \n",
            " dense_1 (Dense)             (None, 2000)              4002000   \n",
            "                                                                 \n",
            " dense_2 (Dense)             (None, 1)                 2001      \n",
            "                                                                 \n",
            "=================================================================\n",
            "Total params: 38,326,595\n",
            "Trainable params: 38,326,095\n",
            "Non-trainable params: 500\n",
            "_________________________________________________________________\n"
          ]
        }
      ],
      "source": [
        "model=Sequential()\n",
        "model.add(Conv2D(512, (3, 3),strides=(1,1), activation='relu', padding='same',input_shape=(64, 64, 3)))\n",
        "model.add(Dropout(0.2))\n",
        "model.add(Conv2D(250, (3, 3),strides=(1,1), activation='relu', padding='same'))\n",
        "model.add(BatchNormalization())\n",
        "model.add(Conv2D(128, (3, 3),strides=(1,1), activation='relu', padding='same'))\n",
        "model.add(Conv2D(64, (3, 3),strides=(1,1), activation='relu', padding='same'))\n",
        "model.add(Conv2D(32, (3, 3),strides=(1,1), activation='relu', padding='same'))\n",
        "model.add(Conv2D(16, (3, 3),strides=(1,1), activation='relu', padding='same'))\n",
        "model.add(MaxPooling2D(2,strides=(2,2), padding='same'))\n",
        "model.add(Flatten()) \n",
        "model.add(Dense(2000 , activation='relu'))\n",
        "model.add(layers.Dropout(.2))\n",
        "model.add(Dense(2000, activation='relu'))\n",
        "model.add(Dense(1,activation='sigmoid'))\n",
        "model.summary()"
      ]
    },
    {
      "cell_type": "code",
      "execution_count": 7,
      "metadata": {
        "colab": {
          "base_uri": "https://localhost:8080/"
        },
        "id": "7WqdYGsSM-g9",
        "outputId": "498ab9ab-5206-45e0-f6f1-477cefe169a7"
      },
      "outputs": [
        {
          "metadata": {
            "tags": null
          },
          "name": "stderr",
          "output_type": "stream",
          "text": [
            "/usr/local/lib/python3.7/dist-packages/ipykernel_launcher.py:2: UserWarning: `Model.fit_generator` is deprecated and will be removed in a future version. Please use `Model.fit`, which supports generators.\n",
            "  \n"
          ]
        },
        {
          "output_type": "stream",
          "name": "stdout",
          "text": [
            "Epoch 1/15\n",
            "2500/2500 [==============================] - 865s 339ms/step - loss: 0.4261 - accuracy: 0.8014 - val_loss: 0.2095 - val_accuracy: 0.9140\n",
            "Epoch 2/15\n",
            "2500/2500 [==============================] - 845s 338ms/step - loss: 0.2411 - accuracy: 0.8992 - val_loss: 0.2030 - val_accuracy: 0.9200\n",
            "Epoch 3/15\n",
            "2500/2500 [==============================] - 840s 336ms/step - loss: 0.2031 - accuracy: 0.9162 - val_loss: 0.1479 - val_accuracy: 0.9403\n",
            "Epoch 4/15\n",
            "2500/2500 [==============================] - 839s 336ms/step - loss: 0.1826 - accuracy: 0.9262 - val_loss: 0.1371 - val_accuracy: 0.9434\n",
            "Epoch 5/15\n",
            "2500/2500 [==============================] - 840s 336ms/step - loss: 0.1659 - accuracy: 0.9334 - val_loss: 0.1292 - val_accuracy: 0.9492\n",
            "Epoch 6/15\n",
            "2500/2500 [==============================] - 840s 336ms/step - loss: 0.1548 - accuracy: 0.9385 - val_loss: 0.1115 - val_accuracy: 0.9581\n",
            "Epoch 7/15\n",
            "2500/2500 [==============================] - 841s 336ms/step - loss: 0.1463 - accuracy: 0.9420 - val_loss: 0.1188 - val_accuracy: 0.9548\n",
            "Epoch 8/15\n",
            "2500/2500 [==============================] - 842s 337ms/step - loss: 0.1400 - accuracy: 0.9450 - val_loss: 0.1069 - val_accuracy: 0.9598\n",
            "Epoch 9/15\n",
            "2500/2500 [==============================] - 843s 337ms/step - loss: 0.1345 - accuracy: 0.9475 - val_loss: 0.1002 - val_accuracy: 0.9633\n",
            "Epoch 10/15\n",
            "2500/2500 [==============================] - 842s 337ms/step - loss: 0.1307 - accuracy: 0.9496 - val_loss: 0.0958 - val_accuracy: 0.9637\n",
            "Epoch 11/15\n",
            "2500/2500 [==============================] - 852s 341ms/step - loss: 0.1256 - accuracy: 0.9509 - val_loss: 0.1487 - val_accuracy: 0.9446\n",
            "Epoch 12/15\n",
            "2500/2500 [==============================] - 843s 337ms/step - loss: 0.1213 - accuracy: 0.9535 - val_loss: 0.1047 - val_accuracy: 0.9648\n",
            "Epoch 13/15\n",
            "2500/2500 [==============================] - 841s 336ms/step - loss: 0.1190 - accuracy: 0.9540 - val_loss: 0.0968 - val_accuracy: 0.9630\n",
            "Epoch 14/15\n",
            "2500/2500 [==============================] - 840s 336ms/step - loss: 0.1182 - accuracy: 0.9543 - val_loss: 0.0960 - val_accuracy: 0.9620\n",
            "Epoch 15/15\n",
            "2500/2500 [==============================] - 839s 336ms/step - loss: 0.1141 - accuracy: 0.9566 - val_loss: 0.1009 - val_accuracy: 0.9637\n"
          ]
        }
      ],
      "source": [
        "model.compile(optimizer=Adam(),loss='binary_crossentropy',metrics=['accuracy'])\n",
        "hist = model.fit_generator(generator=train_generator,validation_data=validation_generator,epochs=15)"
      ]
    },
    {
      "cell_type": "code",
      "source": [
        "model.save(\"./contant/modelsmall.h5\")"
      ],
      "metadata": {
        "id": "csDmN7JzUUlY"
      },
      "execution_count": 9,
      "outputs": []
    },
    {
      "cell_type": "code",
      "execution_count": 10,
      "metadata": {
        "colab": {
          "base_uri": "https://localhost:8080/",
          "height": 298
        },
        "id": "6F84H4-XM-g9",
        "outputId": "4f9e613c-9926-4b3c-9609-a2412b112f3c"
      },
      "outputs": [
        {
          "output_type": "display_data",
          "data": {
            "image/png": "[encoded data removed]",
            "text/plain": [
              "<Figure size 432x288 with 1 Axes>"
            ]
          },
          "metadata": {
            "needs_background": "light"
          }
        },
        {
          "output_type": "display_data",
          "data": {
            "text/plain": [
              "<Figure size 432x288 with 0 Axes>"
            ]
          },
          "metadata": {}
        }
      ],
      "source": [
        "acc = hist.history['accuracy']\n",
        "val_acc = hist.history['val_accuracy']\n",
        "loss = hist.history['loss']\n",
        "val_loss = hist.history['val_loss']\n",
        "\n",
        "epochs = range(len(acc))\n",
        "\n",
        "plt.plot(epochs, acc, 'g', label='Training accuracy')\n",
        "plt.plot(epochs, val_acc, 'y', label='Validation accuracy')\n",
        "plt.title('Training and validation accuracy')\n",
        "plt.legend(loc=0)\n",
        "plt.figure()\n",
        "plt.show()"
      ]
    }
  ],
  "metadata": {
    "interpreter": {
      "hash": "351342660902a7ea0b69692cb7df6497da49c2e18cf6228ca0c1f3fa68600a5e"
    },
    "kernelspec": {
      "display_name": "Python 3.8.2 64-bit",
      "language": "python",
      "name": "python3"
    },
    "language_info": {
      "codemirror_mode": {
        "name": "ipython",
        "version": 3
      },
      "file_extension": ".py",
      "mimetype": "text/x-python",
      "name": "python",
      "nbconvert_exporter": "python",
      "pygments_lexer": "ipython3",
      "version": "3.8.2"
    },
    "orig_nbformat": 4,
    "colab": {
      "name": "test2.ipynb",
      "provenance": []
    },
    "accelerator": "GPU"
  },
  "nbformat": 4,
  "nbformat_minor": 0
}